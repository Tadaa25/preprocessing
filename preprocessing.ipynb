{
  "cells": [
    {
      "cell_type": "code",
      "execution_count": 1,
      "metadata": {
        "id": "_zR6ECOFfg7J"
      },
      "outputs": [],
      "source": [
        "import numpy as np\n",
        "import matplotlib.pyplot as plt\n",
        "import pandas as pd\n"
      ]
    },
    {
      "cell_type": "code",
      "execution_count": 6,
      "metadata": {
        "id": "l7pdy70wjDW_"
      },
      "outputs": [],
      "source": [
        "dataset = pd.read_csv('dataset_renang.csv')\n",
        "X = dataset.iloc[:, :-1].values\n",
        "Y = dataset.iloc[:, -1].values"
      ]
    },
    {
      "cell_type": "code",
      "execution_count": 4,
      "metadata": {
        "colab": {
          "base_uri": "https://localhost:8080/"
        },
        "id": "mttWpEktjoFE",
        "outputId": "2407c627-1728-4d17-dfc8-c1766263c66d"
      },
      "outputs": [
        {
          "name": "stdout",
          "output_type": "stream",
          "text": [
            "[[1 'Alya' 16 'Laki-laki' 'Menengah' 94.7 1946.3 4 'Kupu-kupu' 293.6\n",
            "  'Lomba' 2 'Cerah' 29.9]\n",
            " [2 'Budi' 29 'Perempuan' 'Menengah' 74.0 1712.9 1 'Kupu-kupu' 637.7\n",
            "  'Kesehatan' 6 'Hujan' 30.5]\n",
            " [3 'Citra' 38 'Perempuan' 'Pemula' 78.7 1471.3 6 'Bebas' 709.3\n",
            "  'Kesehatan' 3 'Hujan' 24.5]\n",
            " [4 'Dewi' 24 'Perempuan' 'Mahir' 116.5 548.4 1 'Punggung' 290.1 'Lomba'\n",
            "  9 'Cerah' 25.5]\n",
            " [5 'Eko' 20 'Laki-laki' 'Menengah' 80.7 586.5 1 'Bebas' 682.6\n",
            "  'Kesehatan' 4 'Cerah' 28.7]\n",
            " [6 'Farhan' 17 'Perempuan' 'Pemula' 47.6 176.8 1 'Punggung' 394.2\n",
            "  'Lomba' 1 'Mendung' 26.5]\n",
            " [7 'Gita' 38 'Laki-laki' 'Pemula' 49.6 1450.3 3 'Dada' 605.8 'Kesehatan'\n",
            "  4 'Cerah' 25.8]\n",
            " [8 'Hadi' 30 'Laki-laki' 'Pemula' 36.5 310.7 6 'Dada' 606.8 'Kesehatan'\n",
            "  1 'Mendung' 26.1]\n",
            " [9 'Indra' 16 'Laki-laki' 'Pemula' 21.6 934.7 1 'Dada' 528.6 'Rekreasi'\n",
            "  5 'Cerah' 26.3]\n",
            " [10 'Joko' 35 'Laki-laki' 'Menengah' 62.3 483.3 4 'Kupu-kupu' 172.2\n",
            "  'Rekreasi' 4 'Mendung' 29.9]\n",
            " [11 'Kiki' 28 'Laki-laki' 'Menengah' 59.5 1802.0 5 'Dada' 768.2\n",
            "  'Kesehatan' 8 'Hujan' 25.0]\n",
            " [12 'Lina' 32 'Perempuan' 'Mahir' 49.3 1003.2 1 'Punggung' 356.6\n",
            "  'Kesehatan' 8 'Cerah' 29.0]\n",
            " [13 'Mira' 20 'Perempuan' 'Pemula' 21.4 1170.2 3 'Dada' 249.2 'Rekreasi'\n",
            "  7 'Cerah' 27.9]\n",
            " [14 'Nanda' 20 'Perempuan' 'Pemula' 39.9 1421.5 6 'Bebas' 132.6\n",
            "  'Rekreasi' 3 'Cerah' 26.1]\n",
            " [15 'Oka' 33 'Perempuan' 'Pemula' 91.1 364.7 3 'Bebas' 572.7 'Rekreasi'\n",
            "  1 'Cerah' 26.9]\n",
            " [16 'Putri' 30 'Perempuan' 'Menengah' 99.0 1248.4 1 'Kupu-kupu' 642.1\n",
            "  'Lomba' 1 'Mendung' 25.8]\n",
            " [17 'Rafi' 13 'Laki-laki' 'Menengah' 80.6 1125.7 6 'Bebas' 113.3\n",
            "  'Kesehatan' 3 'Cerah' 28.3]\n",
            " [18 'Sinta' 17 'Perempuan' 'Pemula' 112.6 485.8 5 'Punggung' 509.7\n",
            "  'Rekreasi' 6 'Hujan' 24.6]\n",
            " [19 'Tono' 33 'Perempuan' 'Menengah' 85.1 1891.4 1 'Dada' 281.2\n",
            "  'Kesehatan' 7 'Hujan' 24.0]\n",
            " [20 'Umar' 12 'Laki-laki' 'Pemula' 111.5 1237.8 3 'Kupu-kupu' 616.1\n",
            "  'Lomba' 6 'Cerah' 28.4]\n",
            " [21 'Vina' 31 'Perempuan' 'Mahir' 105.0 1420.1 2 'Dada' 239.5 'Lomba' 6\n",
            "  'Hujan' 25.4]\n",
            " [22 'Wahyu' 30 'Laki-laki' 'Menengah' 64.9 1772.9 4 'Dada' 652.8\n",
            "  'Rekreasi' 6 'Cerah' 24.5]\n",
            " [23 'Xena' 11 'Perempuan' 'Pemula' 29.5 1286.3 3 'Punggung' 409.4\n",
            "  'Lomba' 3 'Cerah' 26.8]\n",
            " [24 'Yoga' 33 'Laki-laki' 'Mahir' 57.1 661.7 6 'Bebas' 849.4 'Kesehatan'\n",
            "  6 'Hujan' 24.4]\n",
            " [25 'Zahra' 21 'Perempuan' 'Menengah' 86.9 300.4 1 'Bebas' 210.0\n",
            "  'Rekreasi' 8 'Cerah' 30.2]\n",
            " [26 'Bayu' 39 'Perempuan' 'Pemula' 86.6 967.4 4 'Dada' 372.9 'Kesehatan'\n",
            "  2 'Hujan' 24.2]\n",
            " [27 'Dina' 15 'Laki-laki' 'Menengah' 79.1 515.0 1 'Kupu-kupu' 190.8\n",
            "  'Kesehatan' 5 'Mendung' 28.1]\n",
            " [28 'Hendra' 11 'Laki-laki' 'Menengah' 47.5 891.4 6 'Bebas' 839.8\n",
            "  'Lomba' 1 'Cerah' 27.1]\n",
            " [29 'Novi' 37 'Laki-laki' 'Mahir' 76.1 1778.2 1 'Kupu-kupu' 801.9\n",
            "  'Lomba' 1 'Mendung' 28.7]\n",
            " [30 'Rina' 30 'Laki-laki' 'Mahir' 58.3 716.3 2 'Bebas' 306.4 'Lomba' 5\n",
            "  'Hujan' 26.3]]\n"
          ]
        }
      ],
      "source": [
        "print(X)"
      ]
    },
    {
      "cell_type": "code",
      "execution_count": 7,
      "metadata": {
        "colab": {
          "base_uri": "https://localhost:8080/"
        },
        "id": "ugMs4DXgkBLL",
        "outputId": "4fe7b20b-7b80-47a9-fbf4-8df2c5757b61"
      },
      "outputs": [
        {
          "name": "stdout",
          "output_type": "stream",
          "text": [
            "[2 5 2 2 1 4 2 3 4 5 1 5 4 4 4 5 4 5 4 3 4 5 2 4 2 3 1 3 4 2]\n"
          ]
        }
      ],
      "source": [
        "print(Y)"
      ]
    },
    {
      "cell_type": "code",
      "execution_count": 8,
      "metadata": {
        "id": "6lEj1SnmkNFL"
      },
      "outputs": [],
      "source": [
        "from sklearn.compose import ColumnTransformer\n",
        "from sklearn.preprocessing import OneHotEncoder\n",
        "ct = ColumnTransformer(transformers=[('encoder', OneHotEncoder(), [0])], remainder='passthrough')\n",
        "X = np.array(ct.fit_transform(X))"
      ]
    },
    {
      "cell_type": "code",
      "execution_count": 9,
      "metadata": {
        "colab": {
          "base_uri": "https://localhost:8080/"
        },
        "id": "YEmzDUBMk4yF",
        "outputId": "a67384fc-6882-43ed-ec64-27fbf2559537"
      },
      "outputs": [
        {
          "name": "stdout",
          "output_type": "stream",
          "text": [
            "[[1.0 0.0 0.0 ... 2 'Cerah' 29.9]\n",
            " [0.0 1.0 0.0 ... 6 'Hujan' 30.5]\n",
            " [0.0 0.0 1.0 ... 3 'Hujan' 24.5]\n",
            " ...\n",
            " [0.0 0.0 0.0 ... 1 'Cerah' 27.1]\n",
            " [0.0 0.0 0.0 ... 1 'Mendung' 28.7]\n",
            " [0.0 0.0 0.0 ... 5 'Hujan' 26.3]]\n"
          ]
        }
      ],
      "source": [
        "print(X)"
      ]
    },
    {
      "cell_type": "code",
      "execution_count": 35,
      "metadata": {
        "id": "vqrDN7WQniHv"
      },
      "outputs": [],
      "source": [
        "from sklearn.preprocessing import LabelEncoder\n",
        "\n",
        "le = LabelEncoder()\n",
        "\n",
        "# encode kolom 'Cuaca'\n",
        "X[:, -2] = le.fit_transform(X[:, -2])\n",
        "\n",
        "# encode kolom 'Tujuan'\n",
        "X[:, -4] = le.fit_transform(X[:, -4])\n",
        "\n",
        "# encode kolom 'Gaya_Utama'\n",
        "X[:, -7] = le.fit_transform(X[:, -7])\n",
        "\n",
        "# encode kolom 'Tingkat_Kemampuan'\n",
        "X[:, -10] = le.fit_transform(X[:, -10])\n",
        "\n",
        "# encode kolom 'Jenis_Kelamin'\n",
        "X[:, -11] = le.fit_transform(X[:, -11])\n"
      ]
    },
    {
      "cell_type": "code",
      "execution_count": 36,
      "metadata": {
        "colab": {
          "base_uri": "https://localhost:8080/"
        },
        "id": "9a--2WdHnqrA",
        "outputId": "a2f2bfa2-8220-48ac-dcf0-89c68ff79d64"
      },
      "outputs": [
        {
          "name": "stdout",
          "output_type": "stream",
          "text": [
            "[[1.0 0.0 0.0 ... 2 0 29.9]\n",
            " [0.0 1.0 0.0 ... 6 1 30.5]\n",
            " [0.0 0.0 1.0 ... 3 1 24.5]\n",
            " ...\n",
            " [0.0 0.0 0.0 ... 1 0 27.1]\n",
            " [0.0 0.0 0.0 ... 1 2 28.7]\n",
            " [0.0 0.0 0.0 ... 5 1 26.3]]\n"
          ]
        }
      ],
      "source": [
        "print(X)"
      ]
    },
    {
      "cell_type": "code",
      "execution_count": 41,
      "metadata": {
        "id": "uU-TG5D4pLw_"
      },
      "outputs": [],
      "source": [
        "from sklearn.preprocessing import LabelEncoder\n",
        "\n",
        "le = LabelEncoder()\n",
        "\n",
        "# Loop semua kolom\n",
        "for i in range(X.shape[1]):\n",
        "    if isinstance(X[0, i], str):  # kalau masih string, ubah jadi numerik\n",
        "        X[:, i] = le.fit_transform(X[:, i])\n"
      ]
    },
    {
      "cell_type": "code",
      "execution_count": 42,
      "metadata": {
        "id": "PtyGrpJXlwMV"
      },
      "outputs": [],
      "source": [
        "from sklearn.model_selection import train_test_split\n",
        "X_train, X_test, Y_train, Y_test = train_test_split(X, Y, test_size = 0.2, random_state = 1)"
      ]
    },
    {
      "cell_type": "code",
      "execution_count": 43,
      "metadata": {
        "colab": {
          "base_uri": "https://localhost:8080/"
        },
        "id": "wWE7vLjims5-",
        "outputId": "20d27716-6ea6-4e90-ee5a-90a8c04734d5"
      },
      "outputs": [
        {
          "name": "stdout",
          "output_type": "stream",
          "text": [
            "[[0.0 0.0 0.0 ... 5 2 28.1]\n",
            " [0.0 0.0 0.0 ... 9 0 25.5]\n",
            " [0.0 0.0 0.0 ... 8 0 30.2]\n",
            " ...\n",
            " [0.0 0.0 0.0 ... 7 0 27.9]\n",
            " [0.0 0.0 0.0 ... 8 0 29.0]\n",
            " [0.0 0.0 0.0 ... 1 2 26.5]]\n"
          ]
        }
      ],
      "source": [
        "print(X_train)"
      ]
    },
    {
      "cell_type": "code",
      "execution_count": 44,
      "metadata": {
        "colab": {
          "base_uri": "https://localhost:8080/"
        },
        "id": "Kbo0_yLon_oh",
        "outputId": "06499d4b-04e0-4056-b27e-6d33ae6901ef"
      },
      "outputs": [
        {
          "name": "stdout",
          "output_type": "stream",
          "text": [
            "[[0.0 0.0 0.0 0.0 0.0 0.0 0.0 0.0 0.0 0.0 0.0 0.0 0.0 0.0 0.0 0.0 0.0 1.0\n",
            "  0.0 0.0 0.0 0.0 0.0 0.0 0.0 0.0 0.0 0.0 0.0 0.0 22 17 1 2 112.6 485.8 4\n",
            "  3 509.7 2 6 1 24.6]\n",
            " [0.0 0.0 0.0 0.0 0.0 0.0 0.0 0.0 0.0 0.0 0.0 0.0 0.0 0.0 0.0 0.0 0.0 0.0\n",
            "  0.0 0.0 0.0 1.0 0.0 0.0 0.0 0.0 0.0 0.0 0.0 0.0 26 30 0 1 64.9 1772.9 3\n",
            "  1 652.8 2 6 0 24.5]\n",
            " [0.0 0.0 0.0 0.0 0.0 0.0 0.0 0.0 0.0 0.0 1.0 0.0 0.0 0.0 0.0 0.0 0.0 0.0\n",
            "  0.0 0.0 0.0 0.0 0.0 0.0 0.0 0.0 0.0 0.0 0.0 0.0 13 28 0 1 59.5 1802.0 4\n",
            "  1 768.2 0 8 1 25.0]\n",
            " [0.0 0.0 0.0 0.0 0.0 0.0 0.0 0.0 0.0 0.0 0.0 0.0 0.0 0.0 0.0 0.0 0.0 0.0\n",
            "  0.0 1.0 0.0 0.0 0.0 0.0 0.0 0.0 0.0 0.0 0.0 0.0 24 12 0 2 111.5 1237.8\n",
            "  2 2 616.1 1 6 0 28.4]\n",
            " [0.0 0.0 0.0 0.0 0.0 0.0 0.0 0.0 0.0 0.0 0.0 0.0 0.0 0.0 1.0 0.0 0.0 0.0\n",
            "  0.0 0.0 0.0 0.0 0.0 0.0 0.0 0.0 0.0 0.0 0.0 0.0 18 33 1 2 91.1 364.7 2\n",
            "  0 572.7 2 1 0 26.9]\n",
            " [0.0 0.0 0.0 0.0 0.0 0.0 0.0 0.0 0.0 0.0 0.0 0.0 0.0 0.0 0.0 0.0 0.0 0.0\n",
            "  0.0 0.0 1.0 0.0 0.0 0.0 0.0 0.0 0.0 0.0 0.0 0.0 25 31 1 0 105.0 1420.1\n",
            "  1 1 239.5 1 6 1 25.4]]\n"
          ]
        }
      ],
      "source": [
        "print(X_test)"
      ]
    },
    {
      "cell_type": "code",
      "execution_count": 45,
      "metadata": {
        "colab": {
          "base_uri": "https://localhost:8080/"
        },
        "id": "th8R1pmbo7EZ",
        "outputId": "4a8219fc-b36f-424e-8f6a-ec9e4965db37"
      },
      "outputs": [
        {
          "name": "stdout",
          "output_type": "stream",
          "text": [
            "[0 1 1 1 3 0 1 2 1 3 3 2 2 4 3 1 4 1 3 4 3 3 4 3]\n"
          ]
        }
      ],
      "source": [
        "print(Y_train)"
      ]
    },
    {
      "cell_type": "code",
      "execution_count": 46,
      "metadata": {
        "colab": {
          "base_uri": "https://localhost:8080/"
        },
        "id": "a8IEJl73pWEE",
        "outputId": "7c713214-8e3a-4014-f14f-7869ce9c6005"
      },
      "outputs": [
        {
          "name": "stdout",
          "output_type": "stream",
          "text": [
            "[4 4 0 2 3 3]\n"
          ]
        }
      ],
      "source": [
        "print(Y_test)"
      ]
    },
    {
      "cell_type": "code",
      "execution_count": 47,
      "metadata": {
        "id": "esGZRzoEpaTQ"
      },
      "outputs": [],
      "source": [
        "from sklearn.preprocessing import StandardScaler\n",
        "sc = StandardScaler()\n",
        "X_train[:, 3:] = sc.fit_transform(X_train[:, 3:])\n",
        "X_test[:, 3:] = sc.transform(X_test[:, 3:])"
      ]
    },
    {
      "cell_type": "code",
      "execution_count": 48,
      "metadata": {
        "colab": {
          "base_uri": "https://localhost:8080/"
        },
        "id": "6B8vKstVpyXe",
        "outputId": "898099bb-daaf-403e-8e3a-ea5d961c0ae9"
      },
      "outputs": [
        {
          "name": "stdout",
          "output_type": "stream",
          "text": [
            "[[0.0 0.0 0.0 ... 0.35893503009349875 1.507556722888818\n",
            "  0.5109649665079495]\n",
            " [0.0 0.0 0.0 ... 1.999780881949493 -0.9045340337332909\n",
            "  -0.8287078868574309]\n",
            " [0.0 0.0 0.0 ... 1.5895694189854945 -0.9045340337332909\n",
            "  1.5930084249953704]\n",
            " ...\n",
            " [0.0 0.0 0.0 ... 1.179357956021496 -0.9045340337332909\n",
            "  0.40791320855676505]\n",
            " [0.0 0.0 0.0 ... 1.5895694189854945 -0.9045340337332909\n",
            "  0.9746978772882725]\n",
            " [0.0 0.0 0.0 ... -1.2819108217624955 1.507556722888818\n",
            "  -0.3134490971015156]]\n"
          ]
        }
      ],
      "source": [
        "print(X_train)"
      ]
    },
    {
      "cell_type": "code",
      "execution_count": 49,
      "metadata": {
        "colab": {
          "base_uri": "https://localhost:8080/"
        },
        "id": "gcQj_3uDp1U4",
        "outputId": "fa32acc9-ef5c-4b08-cfb5-e6a528969c70"
      },
      "outputs": [
        {
          "name": "stdout",
          "output_type": "stream",
          "text": [
            "[[0.0 0.0 0.0 -0.2085144140570746 -0.20851441405707463\n",
            "  -0.20851441405707474 -0.20851441405707466 -0.20851441405707466\n",
            "  -0.20851441405707472 -0.2085144140570747 0.0 -0.20851441405707474\n",
            "  -0.20851441405707472 -0.20851441405707466 0.0 -0.2085144140570747\n",
            "  -0.2085144140570747 1.0 -0.20851441405707466 0.0 0.0 0.0\n",
            "  -0.20851441405707463 -0.20851441405707463 -0.20851441405707463\n",
            "  -0.20851441405707466 -0.2085144140570746 -0.20851441405707466\n",
            "  -0.2085144140570747 -0.2085144140570747 1.071062823796571\n",
            "  -0.9134801190523368 1.0 1.1180339887498947 1.91818090719034\n",
            "  -1.051321269714053 1.0113917425784182 1.6059101370939322\n",
            "  0.2832201693649954 1.6081688022566925 0.7691464930574974\n",
            "  0.30151134457776363 -1.2924407976377539]\n",
            " [0.0 0.0 0.0 -0.2085144140570746 -0.20851441405707463\n",
            "  -0.20851441405707474 -0.20851441405707466 -0.20851441405707466\n",
            "  -0.20851441405707472 -0.2085144140570747 0.0 -0.20851441405707474\n",
            "  -0.20851441405707472 -0.20851441405707466 0.0 -0.2085144140570747\n",
            "  -0.2085144140570747 0.0 -0.20851441405707466 0.0 0.0 1.0\n",
            "  -0.20851441405707463 -0.20851441405707463 -0.20851441405707463\n",
            "  -0.20851441405707466 -0.2085144140570746 -0.20851441405707466\n",
            "  -0.2085144140570747 -0.2085144140570747 1.5363208830023212\n",
            "  0.5115488666693089 -1.0 -0.22360679774997905 -0.001677024748373185\n",
            "  1.4585700326157056 0.5259237061407775 -0.22941573387056174\n",
            "  0.90822264296722 1.6081688022566925 0.7691464930574974\n",
            "  -0.9045340337332909 -1.343966676613346]\n",
            " [0.0 0.0 0.0 -0.2085144140570746 -0.20851441405707463\n",
            "  -0.20851441405707474 -0.20851441405707466 -0.20851441405707466\n",
            "  -0.20851441405707472 -0.2085144140570747 1.0 -0.20851441405707474\n",
            "  -0.20851441405707472 -0.20851441405707466 0.0 -0.2085144140570747\n",
            "  -0.2085144140570747 0.0 -0.20851441405707466 0.0 0.0 0.0\n",
            "  -0.20851441405707463 -0.20851441405707463 -0.20851441405707463\n",
            "  -0.20851441405707466 -0.2085144140570746 -0.20851441405707466\n",
            "  -0.2085144140570747 -0.2085144140570747 0.024232190583632893\n",
            "  0.292313638096748 -1.0 -0.22360679774997905 -0.21901943213766173\n",
            "  1.5153160794634997 1.0113917425784182 -0.22941573387056174\n",
            "  1.4122428068644721 -0.9649012813540154 1.5895694189854945\n",
            "  0.30151134457776363 -1.0863372817353885]\n",
            " [0.0 0.0 0.0 -0.2085144140570746 -0.20851441405707463\n",
            "  -0.20851441405707474 -0.20851441405707466 -0.20851441405707466\n",
            "  -0.20851441405707472 -0.2085144140570747 0.0 -0.20851441405707474\n",
            "  -0.20851441405707472 -0.20851441405707466 0.0 -0.2085144140570747\n",
            "  -0.2085144140570747 0.0 -0.20851441405707466 1.0 0.0 0.0\n",
            "  -0.20851441405707463 -0.20851441405707463 -0.20851441405707463\n",
            "  -0.20851441405707466 -0.2085144140570746 -0.20851441405707466\n",
            "  -0.2085144140570747 -0.2085144140570747 1.3036918533994462\n",
            "  -1.4615681904837392 -1.0 1.1180339887498947 1.873907453833263\n",
            "  0.41510578284750255 0.0404556697031367 0.6882472016116852\n",
            "  0.7479320015891514 0.32163376045133846 0.7691464930574974\n",
            "  -0.9045340337332909 0.6655426034347226]\n",
            " [0.0 0.0 0.0 -0.2085144140570746 -0.20851441405707463\n",
            "  -0.20851441405707474 -0.20851441405707466 -0.20851441405707466\n",
            "  -0.20851441405707472 -0.2085144140570747 0.0 -0.20851441405707474\n",
            "  -0.20851441405707472 -0.20851441405707466 1.0 -0.2085144140570747\n",
            "  -0.2085144140570747 0.0 -0.20851441405707466 0.0 0.0 0.0\n",
            "  -0.20851441405707463 -0.20851441405707463 -0.20851441405707463\n",
            "  -0.20851441405707466 -0.2085144140570746 -0.20851441405707466\n",
            "  -0.2085144140570747 -0.2085144140570747 0.6058047645908207\n",
            "  0.8404017095281502 1.0 1.1180339887498947 1.0528361370292845\n",
            "  -1.2874706261837396 0.0404556697031367 -1.1470786693528088\n",
            "  0.5583784910766669 1.6081688022566925 -1.2819108217624955\n",
            "  -0.9045340337332909 -0.10734558119915023]\n",
            " [0.0 0.0 0.0 -0.2085144140570746 -0.20851441405707463\n",
            "  -0.20851441405707474 -0.20851441405707466 -0.20851441405707466\n",
            "  -0.20851441405707472 -0.2085144140570747 0.0 -0.20851441405707474\n",
            "  -0.20851441405707472 -0.20851441405707466 0.0 -0.2085144140570747\n",
            "  -0.2085144140570747 0.0 -0.20851441405707466 0.0 1.0 0.0\n",
            "  -0.20851441405707463 -0.20851441405707463 -0.20851441405707463\n",
            "  -0.20851441405707466 -0.2085144140570746 -0.20851441405707466\n",
            "  -0.2085144140570747 -0.2085144140570747 1.4200063682008837\n",
            "  0.6211664809555894 1.0 -1.5652475842498526 1.6122915930868973\n",
            "  0.7705973409352307 -0.4450123667345042 -0.22941573387056174\n",
            "  -0.8969032993095057 0.32163376045133846 0.7691464930574974\n",
            "  0.30151134457776363 -0.8802337658330232]]\n"
          ]
        }
      ],
      "source": [
        "print(X_test)"
      ]
    }
  ],
  "metadata": {
    "colab": {
      "provenance": []
    },
    "kernelspec": {
      "display_name": "Python 3",
      "name": "python3"
    },
    "language_info": {
      "name": "python"
    }
  },
  "nbformat": 4,
  "nbformat_minor": 0
}
